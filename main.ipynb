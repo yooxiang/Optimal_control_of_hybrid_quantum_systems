{
 "cells": [
  {
   "cell_type": "markdown",
   "metadata": {},
   "source": [
    "# Optimal control of spin ensemble in a cavity"
   ]
  },
  {
   "cell_type": "markdown",
   "metadata": {},
   "source": [
    "The Tavis-Cummings (TC) Hamiltonian is given by the following:\n",
    "\n",
    "$\\mathcal{H}=\\frac{1}{2} \\sum_{i=1}^{N} \\hbar \\omega_{i} \\sigma_{i}^{z}+\\hbar \\omega_{c} \\hat{a}_{c}^{\\dagger} \\hat{a}_{c}+\\sum_{i=1}^{N} \\hbar g\\left(\\sigma_{i}^{+} \\hat{a}_{c}+\\sigma_{i}^{-} \\hat{a}_{c}^{\\dagger}\\right)$\n",
    "\n",
    "which writtin the krylov basis can be represented as a matrix:\n",
    "\n",
    "$\\mathcal{H}_{s}^{e f}=\\left(\\begin{array}{ccccccc}{-\\eta-\\Omega} & {0} & {0} & {0} & {0} & {\\cdot} & {0} & {0} \\\\ {0} & {-\\eta} & {\\sqrt{2} \\sigma} & {0} & {0} & {\\cdot} & {0} & {0} \\\\ {0} & {\\sqrt{2} \\sigma} & {-\\eta} & {\\sqrt{3} \\sigma} & {0} & {\\cdot} & {0} & {0} \\\\ {0} & {0} & {\\sqrt{3} \\sigma} & {-\\eta} & {\\sqrt{4} \\sigma} & {\\cdot} & {0} & {0} \\\\ {0} & {0} & {0} & {\\sqrt{4} \\sigma} & {-\\eta} & {\\cdot} & {0} & {0} \\\\ {\\cdot} & {\\cdot} & {\\cdot} & {\\cdot} & {\\cdot} & {\\cdot} & {\\cdot} & {\\cdot} \\\\ {\\cdot} & {\\cdot} & {\\cdot} & {\\cdot} & {\\cdot} & {\\cdot} & {\\cdot} & {\\cdot} \\\\ {0} & {0} & {0} & {0} & {0} & {\\cdot} & {-\\eta} & {\\sqrt{k} \\sigma} \\\\ {0} & {0} & {0} & {0} & {0} & {\\cdot} & {\\sqrt{k} \\sigma} & {-\\eta}\\end{array}\\right)$\n",
    "\n",
    "where $η = \\frac{N−2}{2}Ω$, $\\Omega=\\frac{1}{N} \\sum_{i}^{N} \\omega_{i}$ or the mean of the frequncies, $k$ is the kth dimension in the krylov sub-space and $σ$ is the standard deviation of the distrabution of the spin frequncies of the ensemble."
   ]
  },
  {
   "cell_type": "code",
   "execution_count": 42,
   "metadata": {},
   "outputs": [],
   "source": [
    "import scipy as sp\n",
    "from scipy import sparse\n",
    "def matprint(mat, fmt=\"g\"):\n",
    "    col_maxes = [max([len((\"{:\"+fmt+\"}\").format(x)) for x in col]) for col in mat.T]\n",
    "    for x in mat:\n",
    "        for i, y in enumerate(x):\n",
    "            print((\"{:\"+str(col_maxes[i])+fmt+\"}\").format(y), end=\"  \")\n",
    "        print(\"\") "
   ]
  },
  {
   "cell_type": "markdown",
   "metadata": {},
   "source": [
    "https://gist.github.com/braingineer/d801735dac07ff3ac4d746e1f218ab75"
   ]
  },
  {
   "cell_type": "code",
   "execution_count": 61,
   "metadata": {},
   "outputs": [],
   "source": [
    "def H_effective(N, Omega, Sigma):\n",
    "    Eta = (N-2)*0.5*Omega\n",
    "    beta = []\n",
    "    for i in range(N-1):\n",
    "        beta.append(sp.sqrt(i+1)*Sigma)\n",
    "    \n",
    "    diag = [beta,beta]\n",
    "    M = sp.sparse.diags(diag,[-1,1]).toarray()\n",
    "    sp.fill_diagonal(M, -Eta)\n",
    "    \n",
    "    M[1,0] = 0\n",
    "    M[0,1] = 0\n",
    "    M[0,0] = -1*Eta - Omega\n",
    "    \n",
    "    return M\n",
    "\n",
    "def H_effective_print(N,Omega,Sigma):\n",
    "    M = H_effective(N,Omega,Sigma)\n",
    "    matprint(M, fmt=\"g\")"
   ]
  },
  {
   "cell_type": "code",
   "execution_count": 62,
   "metadata": {},
   "outputs": [
    {
     "name": "stdout",
     "output_type": "stream",
     "text": [
      "-25        0        0        0    0  \n",
      "  0      -15  1.41421        0    0  \n",
      "  0  1.41421      -15  1.73205    0  \n",
      "  0        0  1.73205      -15    2  \n",
      "  0        0        0        2  -15  \n"
     ]
    }
   ],
   "source": [
    "H_effective_print(5,10,1)"
   ]
  },
  {
   "cell_type": "markdown",
   "metadata": {},
   "source": [
    "We know consider the interaction of the cavity with spin, which is given by the following.\n",
    "\n",
    "$\\begin{aligned} \\mathcal{H} &=\\mathcal{H}_{s}^{e f} \\otimes \\mathbb{I}+\\omega_{c} \\mathbb{I} \\otimes \\hat{a}_{c}^{\\dagger} \\hat{a}_{c} \\\\ &+g(t)\\left(\\left|\\phi_{0}\\right\\rangle\\left\\langle\\phi_{1}\\left|\\otimes \\hat{a}_{c}+\\right| \\phi_{1}\\right\\rangle\\left\\langle\\phi_{0}\\right| \\otimes \\hat{a}_{c}^{\\dagger}\\right) \\end{aligned}$"
   ]
  },
  {
   "cell_type": "code",
   "execution_count": null,
   "metadata": {},
   "outputs": [],
   "source": []
  }
 ],
 "metadata": {
  "kernelspec": {
   "display_name": "Python 3",
   "language": "python",
   "name": "python3"
  },
  "language_info": {
   "codemirror_mode": {
    "name": "ipython",
    "version": 3
   },
   "file_extension": ".py",
   "mimetype": "text/x-python",
   "name": "python",
   "nbconvert_exporter": "python",
   "pygments_lexer": "ipython3",
   "version": "3.7.3"
  }
 },
 "nbformat": 4,
 "nbformat_minor": 2
}
